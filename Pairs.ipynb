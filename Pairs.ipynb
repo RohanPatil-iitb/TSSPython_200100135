{
 "cells": [
  {
   "cell_type": "markdown",
   "metadata": {
    "id": "dBmd8kyLfMIg"
   },
   "source": [
    "## Paired Switching\n",
    "\n",
    "The idea behind this strategy is that if the assets are negatively correlated, then a traditional mixed portfolio might lead to a lower return than the return for the individual assets.\n",
    "\n",
    "We periodically compute the Co-relation Coefficients' Matrix and choose pair of stocks which have the most negative co-relations and trade in them. The basic idea being that if one of them would fall, then the other would rise and hence, we must switch between them!\n",
    "\n",
    "We need a re-balancing period ,i.e. The time after which we would be again calculating the co-relations and taking a different pair of stocks : **T**\n",
    "\n",
    "We would also need to keep switching between these selected stocks in a pair at a certain interval of time : **P**\n",
    "\n",
    "Next, We need to specify how many such pairs would we be trading in : **M**\n",
    "\n",
    "The Fraction of the total balance we would be investing on every turn : **R**\n",
    "\n",
    "The Brokerage Fee as a fraction of the total transaction amount : **F**\n",
    "\n"
   ]
  },
  {
   "cell_type": "code",
   "execution_count": 1,
   "metadata": {
    "id": "KhmpNcaUextd"
   },
   "outputs": [],
   "source": [
    "import numpy as np\n",
    "import pandas as pd\n",
    "import datetime\n",
    "import matplotlib.pyplot as plt\n",
    "import seaborn as sns\n",
    "\n",
    "T = 60\n",
    "P = 7\n",
    "M = 4\n",
    "R = 0.8\n",
    "F = 0.0005"
   ]
  },
  {
   "cell_type": "markdown",
   "metadata": {
    "id": "6zepnFA0xjvI"
   },
   "source": [
    "### Few Upcoming Functions(GetData and PartitionData) would be similar to the ones you encountered in the Momentum Assignment (Feel free to Copy-Paste your code from there!)"
   ]
  },
  {
   "cell_type": "markdown",
   "metadata": {
    "id": "YZQH1NuRyGLy"
   },
   "source": [
    "In the file DATA.csv , which we had uploaded in our repository, we have prices of 30 firms enlisted in S & P 500 Index (Apple, IBM, Cisco, Walmart and the like!) from 2nd January 2009 to 17th August 2020.\n",
    "\n",
    "For our purposes, We'll only be requiring certain columns. On an honest note, Just getting the Columns on Ticker, Date and Adjusted Closing Price would do the job, but if you want, you may take Opening Price as well.\n",
    "\n",
    "Read up about the [pandas.read_csv](https://pandas.pydata.org/docs/reference/api/pandas.read_csv.html) function from here, and figure out how you'll use it to do the job (You don't need all the columns!) "
   ]
  },
  {
   "cell_type": "code",
   "execution_count": 2,
   "metadata": {
    "id": "Ka_L9Ne6yOGY"
   },
   "outputs": [],
   "source": [
    "def GetData(NameOfFile):\n",
    "  #START CODE HERE\n",
    "    file=pd.read_csv(NameOfFile,usecols=[\"datadate\",\"tic\",\"adjcp\"])\n",
    "    return(file)  # pd.DataFrame Object"
   ]
  },
  {
   "cell_type": "markdown",
   "metadata": {
    "id": "xJILaZUYySQW"
   },
   "source": [
    "To aid Data-Manipulation, it would be beneficial, if we split the DataFrame into many small parts each corresponding to the data corresponding to the 30 Tickers on a particular date. These small parts could then be stored in a list.\n",
    "\n",
    "We would also be needing to remember which date is at what index, so that we can use that later. "
   ]
  },
  {
   "cell_type": "code",
   "execution_count": 5,
   "metadata": {
    "id": "I0jUbPe_yiGU"
   },
   "outputs": [],
   "source": [
    "def PartitionData(data):\n",
    "    global DateToIndex\n",
    "    DateToIndex = {}\n",
    "    k=0\n",
    "    #DateToIndex[20090102]=[]\n",
    "    #print(DateToIndex)\n",
    "    for index,row in data.iterrows():\n",
    "        date=data.datadate[index]\n",
    "        \n",
    "        if date in DateToIndex.keys():\n",
    "            pass\n",
    "            #DateToIndex[date].append(index)\n",
    "        else:\n",
    "            DateToIndex[date]=k\n",
    "            k+=1\n",
    "            #DateToIndex[date]=[index]\n",
    "    partitionedlist=[]\n",
    "    for i in DateToIndex.keys():\n",
    "        df1 = data[data['datadate'] == i]\n",
    "        partitionedlist.append(df1)\n",
    "    \n",
    "    return(partitionedlist,DateToIndex)\n",
    "    \n",
    "    \n"
   ]
  },
  {
   "cell_type": "markdown",
   "metadata": {
    "id": "abBu6bdrqpcD"
   },
   "source": [
    "Now, We need a function which takes as input a pair of stocks (as indices in range 0-29), Today's date,  alongwith the Partitioned DataFrames which will tell us which of the two stocks has a better outlook for the future, and we'll simply move all our Money from one of them to the other. \n",
    "\n",
    "This will be done once in every **P** trading sessions.\n",
    "\n",
    "You could choose between the two stocks in a number of ways, the simplest of which can be what you did in the last assignment, the Momentum Indicator (i.e. Take the difference between the prices of the stocks in a certain number of days and do your deed! Remember this number of days **N** must be <= **T**)\n",
    "\n",
    "You may also use other indicators like [RSI](https://www.investopedia.com/terms/r/rsi.asp), [Stochs](https://www.investopedia.com/terms/s/stochasticoscillator.asp), [MACD](https://www.investopedia.com/terms/m/macd.asp) or anything else! (If you decide to use MACD or RSI, you could either implement other functions to calculate them or simply change your ParitionData() function to get the MACD and RSI values as they are already stored there for you!)\n",
    "\n",
    "You need not worry about getting the nearest dates (or dates at all) in this case, because all you care about is co-relations in long term and growth in short-term so it doesn't matter if you're ahead or behind a few days!\n",
    "\n",
    "'today' would be an index(integer), i.e. an index on the PartitionedDataFrames list denoting where we are at currently!\n",
    "\n",
    "Also, as you may have figured it out yourself, while DataFrames are great for Data Handling and small statistical calculations, They aren't so for big calculations as the Numpy Library has both a richer variety of functions for such manipulations and is also more efficient!\n"
   ]
  },
  {
   "cell_type": "code",
   "execution_count": 246,
   "metadata": {
    "id": "hUViRxVXwrB5"
   },
   "outputs": [],
   "source": [
    "def Switch(firstStock, SecondStock, today ,PartitionedDataFrames):\n",
    "    today=str(today)\n",
    "    N=300\n",
    "    dateformatted=[]\n",
    "    for i in DateToIndex.keys():\n",
    "        i=str(i)\n",
    "        a = datetime.date(int(i[0:4]),int(i[4:6]),int(i[6:]))\n",
    "        dateformatted.append(a)\n",
    "    NdaysAgo = datetime.date(int(today[0:4]),int(today[4:6]),int(today[6:])) + datetime.timedelta(days = -N)\n",
    "    near=min(dateformatted, key=lambda x: abs(x - NdaysAgo))\n",
    "    nearint = int(near.strftime('%Y%m%d'))\n",
    "    #nearint=20090102\n",
    "    todayint= int(today)\n",
    "    df=PartitionedDataFrames[DateToIndex[todayint]]\n",
    "    df2=PartitionedDataFrames[DateToIndex[nearint]]\n",
    "    df.index=np.arange(30)\n",
    "    df2.index=np.arange(30)\n",
    "    now=np.array(df.loc[[firstStock,SecondStock],[\"adjcp\"]])\n",
    "    ago=np.array(df2.loc[[firstStock,SecondStock],[\"adjcp\"]])\n",
    "    momentum = now-ago\n",
    "    #print(firstStock)\n",
    "    #print(SecondStock)\n",
    "    tot=np.zeros(2)\n",
    "    for i in range(DateToIndex[nearint],DateToIndex[todayint]+1):\n",
    "        df=PartitionedDataFrames[i]\n",
    "        \n",
    "        df.index=np.arange(30)\n",
    "        #print(df)\n",
    "        arr=np.array(df.loc[[firstStock,SecondStock],[\"adjcp\"]])\n",
    "        tot=tot+arr\n",
    "    \n",
    "    mean=tot/(DateToIndex[todayint]+1-DateToIndex[nearint])\n",
    "    final=momentum/mean\n",
    "    #print(final)\n",
    "    if final[0][0]>final[1][0]:\n",
    "        return(firstStock,final[0][0])\n",
    "    else:\n",
    "        return(SecondStock,final[1][0])\n"
   ]
  },
  {
   "cell_type": "markdown",
   "metadata": {
    "id": "CBZqJ_CszZbL"
   },
   "source": [
    "Now, We need something to simulate our [Portfolio](https://www.investopedia.com/terms/p/portfolio.asp). In order to do that we need a class, which has certain  basic features and functionalities.\n",
    "\n",
    "(Again some of the functions here, would be same as the previous assignment, so feel free to Copy-Paste)\n",
    "\n",
    "Features : \n",
    "\n",
    "\n",
    "1.   Your Initial Balance\n",
    "2.   Your Current Balance (Money which isn't invested!)\n",
    "3.   A list(/any other container) storing the number of stocks of each ticker currently in possession. (Numpy Array prefered)\n",
    "4.   Most recent prices of all the stocks (As a Numpy array)\n",
    "5.   A list of **M** or less(as it might be that less than **M** stocks are negatively co-related) Tuples of indices (i,j) where i and j are the indices (from 0-29) of stocks which are negatively co-related.\n",
    "\n",
    "Functionalities: \n",
    "\n",
    "\n",
    "\n",
    "1.   Calculating current Net Worth (Balance+Total Evaluation of all Stocks owned!) \n",
    "2.   Buying a Particular Stock (Keep the Transaction fee in mind!)\n",
    "3.   Selling a particular Stock whole (Keep the Transaction Fee in mind!)\n",
    "4.   Change Pairs (**T** period intervals) (Takes PartitionedDataFrame, DateT and today's date as input)\n",
    "5.   Rebalance Portfolio (**P** period intervals) (Takes O)\n",
    "6.   Function to change the value of most recent prices stored (Takes Numpy array as input)\n",
    "\n",
    "\n",
    "You may want to know about Numpy's Corrcoef ([np.corrcoef](https://numpy.org/doc/stable/reference/generated/numpy.corrcoef.html)) function!\n"
   ]
  },
  {
   "cell_type": "code",
   "execution_count": 253,
   "metadata": {
    "id": "SFJOHvgS1aq0"
   },
   "outputs": [],
   "source": [
    "class PortFolio:\n",
    "    def __init__(self, inibal, currbal, currshares, recprices,pairs):\n",
    "        self.inibal = inibal\n",
    "        self.currbal = currbal\n",
    "        self.currshares = currshares\n",
    "        self.recprices = recprices\n",
    "        self.pairs=pairs\n",
    "\n",
    "    def SellStock(self,index):\n",
    "        self.currbal = self.currbal + (self.recprices[index] * self.currshares[index]) *(1-F)\n",
    "        self.currshares[index] = 0\n",
    "\n",
    "    def BuyStock(self,index, number):\n",
    "        self.currbal = self.currbal - (self.recprices[index] * number) * (1+F)\n",
    "        self.currshares[index] = self.currshares[index] + number\n",
    "\n",
    "    def CalculateNetWorth(self):\n",
    "        return (self.currbal + np.sum(self.currshares * self.recprices))\n",
    "\n",
    "    def ChangePricesTo(self,newPriceVector):\n",
    "        self.recprices = newPriceVector\n",
    "\n",
    "    def ChangePairs(self,today,part):\n",
    "        finals=np.zeros(30)\n",
    "        momarr=np.zeros(30)\n",
    "        for tup in self.pairs:\n",
    "            a,b = Switch(tup[0],tup[1],today,part)\n",
    "\n",
    "            if a==tup[0]:\n",
    "                mone=self.currshares[tup[1]]*self.recprices[tup[1]]\n",
    "                self.SellStock(tup[1])\n",
    "                self.BuyStock(tup[0],mone/self.recprices[tup[0]])\n",
    "            else:\n",
    "                mone=self.currshares[tup[0]]*self.recprices[tup[0]]\n",
    "                self.SellStock(tup[0])\n",
    "                self.BuyStock(tup[1],mone/self.recprices[tup[1]])\n",
    "\n",
    "    def RebalancePortfolio(self,todayind,part):\n",
    "        today=list(DateToIndex.keys())[list(DateToIndex.values()).index(todayind)]\n",
    "        for i in range(0,30):\n",
    "            self.SellStock(i)\n",
    "        #weights=np.zeros()\n",
    "        momarr=np.zeros(30)\n",
    "        for tup in self.pairs:\n",
    "            #weights[tup[0]]=1\n",
    "            #weights[tup[1]]=1\n",
    "            a,momentum = Switch(tup[0],tup[1],today,part)\n",
    "            #weights[a]=1\n",
    "            momarr[a]=momentum\n",
    "        #print(momarr)\n",
    "        #print(self.recprices)\n",
    "        alpha=momarr>0\n",
    "        momarr=momarr*alpha\n",
    "        if np.any(momarr)==True:\n",
    "             share = (self.currbal/np.sum(momarr*self.recprices))*momarr\n",
    "        else:\n",
    "            share = np.zeros(30)\n",
    "        \n",
    "        for i in range(0,30):\n",
    "            self.BuyStock(i,share[i])\n",
    "        \n",
    "        #print(myPortfolio.currshares)\n",
    "        \n",
    "        self.pairs=set()\n",
    "        fin=[]\n",
    "        for j in range(0,30):\n",
    "            #fin.append([])\n",
    "            lol=[]\n",
    "            for i in range(0,todayind):\n",
    "                #print(part[i].iloc[[j],[2]])\n",
    "                lol.append(part[i].iat[j,2])\n",
    "            fin.append(lol)\n",
    "                \n",
    "        fin=np.array(fin)\n",
    "        #print(fin)\n",
    "        a=np.corrcoef(fin)\n",
    "        #print(a)\n",
    "        fgh=a<0\n",
    "        #print(a)\n",
    "        \n",
    "        if np.any(fgh)==True:\n",
    "            #print(\"in\")\n",
    "            fgh=fgh*a\n",
    "            fgh=np.concatenate(fgh)\n",
    "            cde=np.sort(fgh)\n",
    "            mip=cde[2*M-1]\n",
    "            #print(cde)\n",
    "            b=a<mip\n",
    "            #print(b)\n",
    "            for i in range(0,30):\n",
    "                for j in range(i,30):\n",
    "                    if b[i][j]==1:\n",
    "                        (self.pairs).add((i,j))\n",
    "\n",
    "\n",
    "\n"
   ]
  },
  {
   "cell_type": "markdown",
   "metadata": {
    "id": "S2Sv0OPB6QiL"
   },
   "source": [
    "With that the difficult part is over!\n",
    "\n",
    "Now, all you need to work on is a main loop, which calls all these functions"
   ]
  },
  {
   "cell_type": "code",
   "execution_count": 254,
   "metadata": {
    "id": "8qTWYyDn6mjt"
   },
   "outputs": [
    {
     "name": "stdout",
     "output_type": "stream",
     "text": [
      "Enter Initial Balancee\n",
      "1226\n"
     ]
    },
    {
     "data": {
      "image/png": "[encoded data removed]",
      "text/plain": [
       "<Figure size 432x288 with 1 Axes>"
      ]
     },
     "metadata": {
      "needs_background": "light"
     },
     "output_type": "display_data"
    }
   ],
   "source": [
    "Data = GetData(\"Data.csv\")\n",
    "PartitionedData, DateToIndex= PartitionData(Data)\n",
    "print(\"Enter Initial Balancee\")\n",
    "bal=float(input())\n",
    "myPortfolio = PortFolio(bal,bal,np.ones(30),np.array(PartitionedData[0][\"adjcp\"]),[])\n",
    "NetWorthAfterEachTrade = myPortfolio.CalculateNetWorth()\n",
    "\n",
    "networth=[]\n",
    "#\n",
    "\n",
    "\n",
    "#Start processing from the (T+1)th Day(among the ones recorded in the Data)\n",
    "for i in range(60,len(PartitionedData)):\n",
    "    myPortfolio.ChangePricesTo(np.array(PartitionedData[i][\"adjcp\"]))\n",
    "  # Change the Prices to the ith Term\n",
    "    networth.append(myPortfolio.CalculateNetWorth())\n",
    "    \n",
    "  # Get NetWorth and store in list\n",
    "    if (i % P) == 0:\n",
    "        #print(i)\n",
    "        myPortfolio.ChangePairs(list(DateToIndex.keys())[list(DateToIndex.values()).index(i)],PartitionedData)\n",
    "    if (i % T) == 0:\n",
    "        #print(i)\n",
    "        myPortfolio.RebalancePortfolio(i,PartitionedData)\n",
    "\n",
    "  # Check if you need to rebalance Portfolio's Today\n",
    "  # Check if you need to switch stocks today\n",
    "VizualizeData(networth)\n"
   ]
  },
  {
   "cell_type": "markdown",
   "metadata": {
    "id": "kwewPN3O6yIF"
   },
   "source": [
    "You may need to declare the PartitionedData list global, depending on your implementation of the Above snippet as well as the various functions in the Portfolio class."
   ]
  },
  {
   "cell_type": "markdown",
   "metadata": {
    "id": "7JBJY3YU7M2C"
   },
   "source": [
    "##Moment of Truth\n",
    "\n",
    "Time to check, if your Program actually works!\n",
    "\n",
    "Plot the data you collected in various ways (Profits, PercentageProfits etc.) and see if what you did worked!\n",
    "\n",
    "Feel free to use whichever one of Matplotlib or Seaborn you want to.\n",
    "\n",
    "Feel free to copy-paste your code from the previous assignment!"
   ]
  },
  {
   "cell_type": "code",
   "execution_count": 255,
   "metadata": {
    "id": "lPQny8RK7tmN"
   },
   "outputs": [],
   "source": [
    "\n",
    "def VisualizeData(networth):\n",
    "    xpoints = np.arange(len(networth))\n",
    "    ypoints = np.array(networth)\n",
    "\n",
    "    \n",
    "    plt.plot(xpoints, ypoints)\n",
    "    plt.show()\n"
   ]
  },
  {
   "cell_type": "raw",
   "metadata": {
    "id": "lsAUyiuk9r6v"
   },
   "source": []
  }
 ],
 "metadata": {
  "colab": {
   "collapsed_sections": [],
   "name": "Pairs.ipynb",
   "provenance": []
  },
  "kernelspec": {
   "display_name": "Python 3 (ipykernel)",
   "language": "python",
   "name": "python3"
  },
  "language_info": {
   "codemirror_mode": {
    "name": "ipython",
    "version": 3
   },
   "file_extension": ".py",
   "mimetype": "text/x-python",
   "name": "python",
   "nbconvert_exporter": "python",
   "pygments_lexer": "ipython3",
   "version": "3.9.6"
  }
 },
 "nbformat": 4,
 "nbformat_minor": 1
}
